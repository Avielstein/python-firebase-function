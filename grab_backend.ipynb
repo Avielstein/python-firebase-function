{
 "cells": [
  {
   "cell_type": "code",
   "execution_count": 11,
   "metadata": {},
   "outputs": [
    {
     "name": "stdout",
     "output_type": "stream",
     "text": [
      "Filtered file names:\n",
      "./firebase.json\n",
      "./functions/fog_message.py\n",
      "./functions/main.py\n"
     ]
    }
   ],
   "source": [
    "import os\n",
    "\n",
    "def list_filtered_files(folder_path, allowed_extensions={'.py', '.json', '.yaml', '.yml'}, skip_dirs={'venv', 'node_modules'}):\n",
    "    \"\"\"\n",
    "    Walk through folder_path and return a list of file paths that have an allowed extension.\n",
    "    Directories listed in skip_dirs will be ignored.\n",
    "    \n",
    "    Parameters:\n",
    "      folder_path (str): Path to the backend folder.\n",
    "      allowed_extensions (set): Set of allowed file extensions (in lowercase).\n",
    "      skip_dirs (set): Directory names to skip.\n",
    "      \n",
    "    Returns:\n",
    "      List[str]: A list of file paths that match the allowed extensions.\n",
    "    \"\"\"\n",
    "    file_names = []\n",
    "    for root, dirs, files in os.walk(folder_path):\n",
    "        # Modify dirs in-place to skip directories in skip_dirs.\n",
    "        dirs[:] = [d for d in dirs if d not in skip_dirs]\n",
    "        for file in files:\n",
    "            ext = os.path.splitext(file)[1].lower()\n",
    "            if ext in allowed_extensions:\n",
    "                file_path = os.path.join(root, file)\n",
    "                file_names.append(file_path)\n",
    "    return file_names\n",
    "\n",
    "# Update this to point to your backend folder (e.g., your Firebase functions directory)\n",
    "folder_path = \".\"  # <-- Replace with the correct path\n",
    "\n",
    "# Get the list of filtered file names\n",
    "filtered_files = list_filtered_files(folder_path)\n",
    "\n",
    "# Print out the list of file names\n",
    "print(\"Filtered file names:\")\n",
    "for file in filtered_files:\n",
    "    print(file)\n"
   ]
  },
  {
   "cell_type": "code",
   "execution_count": 12,
   "metadata": {},
   "outputs": [
    {
     "name": "stdout",
     "output_type": "stream",
     "text": [
      "Backend file content has been saved to backend_content.txt\n"
     ]
    }
   ],
   "source": [
    "import os\n",
    "\n",
    "def gather_filtered_files_content(folder_path, output_file,\n",
    "                                    allowed_extensions={'.py', '.json', '.yaml', '.yml'},\n",
    "                                    skip_dirs={'venv', 'node_modules'}):\n",
    "    \"\"\"\n",
    "    Recursively walk through folder_path, reading the contents of files with allowed extensions,\n",
    "    and write them into a single output_file. Each file's content is preceded by a clear header\n",
    "    showing its full path, with separators to make the file useful for review.\n",
    "\n",
    "    Parameters:\n",
    "      folder_path (str): Path to the backend folder.\n",
    "      output_file (str): Name of the output text file.\n",
    "      allowed_extensions (set): Set of file extensions to include (lowercase).\n",
    "      skip_dirs (set): Directory names to skip.\n",
    "    \"\"\"\n",
    "    with open(output_file, \"w\", encoding=\"utf-8\") as outf:\n",
    "        for root, dirs, files in os.walk(folder_path):\n",
    "            # Skip directories we don't want to include (e.g., virtual environments, node_modules, etc.)\n",
    "            dirs[:] = [d for d in dirs if d not in skip_dirs]\n",
    "            for file in files:\n",
    "                ext = os.path.splitext(file)[1].lower()\n",
    "                if ext in allowed_extensions:\n",
    "                    file_path = os.path.join(root, file)\n",
    "                    # Write a header for the file\n",
    "                    outf.write(\"\\n\" + \"=\" * 80 + \"\\n\")\n",
    "                    outf.write(f\"FILE: {file_path}\\n\")\n",
    "                    outf.write(\"=\" * 80 + \"\\n\\n\")\n",
    "                    try:\n",
    "                        with open(file_path, \"r\", encoding=\"utf-8\") as inf:\n",
    "                            content = inf.read()\n",
    "                        outf.write(content)\n",
    "                    except Exception as e:\n",
    "                        outf.write(f\"[ERROR reading file: {e}]\\n\")\n",
    "                    outf.write(\"\\n\" + \"-\" * 80 + \"\\n\")\n",
    "\n",
    "# Set the path to your backend folder. For example, if your backend files are in \"./functions\" \n",
    "# and configuration files are in the project root, you might set folder_path to the project root:\n",
    "folder_path = \"./\"  # Change this to your backend folder's path if needed\n",
    "\n",
    "# Set the output file name\n",
    "output_file = \"backend_content.txt\"\n",
    "\n",
    "# Run the function to gather file content\n",
    "gather_filtered_files_content(folder_path, output_file)\n",
    "\n",
    "print(f\"Backend file content has been saved to {output_file}\")\n"
   ]
  }
 ],
 "metadata": {
  "kernelspec": {
   "display_name": "Python 3",
   "language": "python",
   "name": "python3"
  },
  "language_info": {
   "codemirror_mode": {
    "name": "ipython",
    "version": 3
   },
   "file_extension": ".py",
   "mimetype": "text/x-python",
   "name": "python",
   "nbconvert_exporter": "python",
   "pygments_lexer": "ipython3",
   "version": "3.11.6"
  }
 },
 "nbformat": 4,
 "nbformat_minor": 2
}
